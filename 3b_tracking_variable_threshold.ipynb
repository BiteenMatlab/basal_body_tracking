{
 "cells": [
  {
   "cell_type": "code",
   "execution_count": 3,
   "id": "bc7089f7-2671-4c48-aeab-c54f19428dbc",
   "metadata": {},
   "outputs": [],
   "source": [
    "from palmari import Experiment, Acquisition\n",
    "from palmari.processing import TifPipeline\n",
    "\n",
    "from os.path import join\n",
    "import mrc\n",
    "\n",
    "from pathlib import Path\n",
    "\n",
    "import pandas as pd\n",
    "import numpy as np\n",
    "import napari as na\n",
    "\n",
    "import matplotlib.pyplot as plt"
   ]
  },
  {
   "cell_type": "code",
   "execution_count": 4,
   "id": "7a36ac49-c356-46d1-95bb-305d1b199fbb",
   "metadata": {},
   "outputs": [
    {
     "name": "stdout",
     "output_type": "stream",
     "text": [
      "{'FindRois': {'movie_file': 'E:\\\\Data\\\\Kearns\\\\TIRF from Caroline in Kearns Lab Caroline Dunn\\\\Strain Comparison\\\\Strains Bio Rep 1\\\\DK5082_1525gfst_250ms_1min_004.dv', 'rois_file_pattern': '_seg.npy', 'rois_fmt': 'cellpose'}}\n",
      "{'GodinezRohr': {'c': 1.0, 'eccentricity': 0.9, 'max_spot_size': 6.0, 'min_spot_size': 2.5, 'show_log': True, 'show_mask': False, 'sigma': 1.5}}\n",
      "{'RadialLocalizer': {'window_size': 6}}\n",
      "{'ConservativeTracker': {'max_diffusivity': 0.05}}\n"
     ]
    }
   ],
   "source": [
    "tp_file = r'T:\\MIGRATED\\Lab_Members\\Daniel_Foust\\Data\\Basal Bodies\\tracking parameters\\2023-06-29__rois_g-r_radsym_cons.yaml'\n",
    "tp = TifPipeline.from_yaml(tp_file)\n",
    "tp.name = Path(tp_file).stem\n",
    "tp.name = r'2023-07-05_rois_g-r_radsym_cons_var-c'"
   ]
  },
  {
   "cell_type": "code",
   "execution_count": 5,
   "id": "54fe03ac-57bc-4f28-a57e-37072faee3fa",
   "metadata": {},
   "outputs": [],
   "source": [
    "notes_folder = r'T:\\MIGRATED\\Lab_Members\\Daniel_Foust\\Data\\Basal Bodies\\fla-che induction\\Inducible Water'\n",
    "notes_file = r'movie notes inducible water.xlsx'\n",
    "notes = pd.read_excel(join(notes_folder, notes_file), sheet_name=None)"
   ]
  },
  {
   "cell_type": "code",
   "execution_count": 4,
   "id": "559f4654-7b7e-4661-a4b8-17f3236b5bad",
   "metadata": {
    "tags": []
   },
   "outputs": [
    {
     "name": "stdout",
     "output_type": "stream",
     "text": [
      "Frame 240: 478 trajectories present.\n",
      "DK31_1525fstG_85TIRF_250ms1min_flaskG_5mininc_17mintot_026 2 2\n"
     ]
    }
   ],
   "source": [
    "# specify folders containing movies to be process\n",
    "folders = [\n",
    "    r'T:\\MIGRATED\\Lab_Members\\Daniel_Foust\\Data\\Basal Bodies\\fla-che induction\\Inducible Water',\n",
    "]\n",
    "\n",
    "density_dict = {'very low': 5, 'low': 2, 'med': 2, 'high': 1}\n",
    "\n",
    "delta_t = 0.25 # seconds\n",
    "pixel_size = 40.27 / 512 # um\n",
    "\n",
    "for i, (rep_notes_key, rep_folder) in enumerate(zip(notes, folders)):\n",
    "    \n",
    "    rep_notes = notes[rep_notes_key]\n",
    "    movies = rep_notes['Movie']\n",
    "    exclude = rep_notes['Exclude']\n",
    "    densities = rep_notes['Particle density']\n",
    "    \n",
    "    movies_filt = movies[exclude != 'x']\n",
    "    densities_filt = densities[exclude != 'x']\n",
    "    \n",
    "    for movie, density in zip(movies_filt, densities_filt):\n",
    "        exp = Experiment(rep_folder,\n",
    "                         export_folder=rep_folder,\n",
    "                         DT=delta_t,\n",
    "                         pixel_size=pixel_size,\n",
    "                         file_pattern=movie+'.dv')\n",
    "\n",
    "        c_movie = density_dict[density]\n",
    "        tp.detector.c = c_movie\n",
    "        tp.process(exp, force_reprocess=True)\n",
    "        print(movie, c_movie, tp.detector.c)\n"
   ]
  }
 ],
 "metadata": {
  "kernelspec": {
   "display_name": "napari-env",
   "language": "python",
   "name": "python3"
  },
  "language_info": {
   "codemirror_mode": {
    "name": "ipython",
    "version": 3
   },
   "file_extension": ".py",
   "mimetype": "text/x-python",
   "name": "python",
   "nbconvert_exporter": "python",
   "pygments_lexer": "ipython3",
   "version": "3.9.18"
  }
 },
 "nbformat": 4,
 "nbformat_minor": 5
}
