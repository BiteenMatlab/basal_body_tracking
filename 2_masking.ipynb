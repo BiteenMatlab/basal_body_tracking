{
 "cells": [
  {
   "cell_type": "code",
   "execution_count": 1,
   "id": "d381a1cc-786a-42e7-a34d-0c57ec9a4231",
   "metadata": {},
   "outputs": [],
   "source": [
    "import mrc\n",
    "import numpy as np\n",
    "import matplotlib.pyplot as plt\n",
    "from os.path import join\n",
    "from skimage.filters import threshold_otsu, threshold_multiotsu\n",
    "from scipy.ndimage import gaussian_filter\n",
    "from skimage.morphology import binary_erosion, binary_dilation, disk\n",
    "from pathlib import Path\n",
    "from glob import glob"
   ]
  },
  {
   "cell_type": "code",
   "execution_count": 2,
   "id": "595864f6-cf6d-4298-bdd5-2a09e7f0c529",
   "metadata": {},
   "outputs": [],
   "source": [
    "def get_cell_mask(movie, sigma=8):\n",
    "    \"\"\"\n",
    "    \"\"\"\n",
    "    image_mean = movie.mean(axis=0)\n",
    "    image_blur = gaussian_filter(image_mean, sigma=sigma)\n",
    "    th = threshold_otsu(image_blur)\n",
    "    mask = image_blur > th\n",
    "    \n",
    "    return mask"
   ]
  },
  {
   "cell_type": "code",
   "execution_count": 3,
   "id": "e3b92b54-8abb-4d88-ba99-3939c9c713af",
   "metadata": {},
   "outputs": [],
   "source": [
    "folders = (\n",
    "    r\"T:\\MIGRATED\\Lab_Members\\Daniel_Foust\\Data\\Basal Bodies\\fla-che induction\\Inducible Water\",\n",
    "    )\n",
    "\n",
    "for folder in folders:\n",
    "\n",
    "    files = glob(join(folder, '*.dv'))\n",
    "\n",
    "    for file in files:\n",
    "        movie = mrc.imread(file)\n",
    "        mask = get_cell_mask(movie)\n",
    "        mask_dict = {'masks': mask.astype('uint16')}\n",
    "        np.save(\n",
    "            join(folder, Path(file).stem+'_seg.npy'), \n",
    "            mask_dict, \n",
    "            allow_pickle=True\n",
    "            )"
   ]
  }
 ],
 "metadata": {
  "kernelspec": {
   "display_name": "napari-env",
   "language": "python",
   "name": "python3"
  },
  "language_info": {
   "codemirror_mode": {
    "name": "ipython",
    "version": 3
   },
   "file_extension": ".py",
   "mimetype": "text/x-python",
   "name": "python",
   "nbconvert_exporter": "python",
   "pygments_lexer": "ipython3",
   "version": "3.9.18"
  }
 },
 "nbformat": 4,
 "nbformat_minor": 5
}
