{
 "cells": [
  {
   "cell_type": "code",
   "execution_count": 1,
   "id": "bc7089f7-2671-4c48-aeab-c54f19428dbc",
   "metadata": {},
   "outputs": [
    {
     "name": "stderr",
     "output_type": "stream",
     "text": [
      "Invalid schema for package 'ome-types', please run 'npe2 validate ome-types' to check for manifest errors.\n"
     ]
    }
   ],
   "source": [
    "from palmari import Experiment\n",
    "from palmari.processing import TifPipeline\n",
    "\n",
    "from os.path import join\n",
    "import mrc\n",
    "\n",
    "from pathlib import Path\n",
    "\n",
    "import pandas as pd\n",
    "import numpy as np\n",
    "import napari as na\n",
    "\n",
    "import matplotlib.pyplot as plt"
   ]
  },
  {
   "cell_type": "code",
   "execution_count": 2,
   "id": "7a36ac49-c356-46d1-95bb-305d1b199fbb",
   "metadata": {},
   "outputs": [
    {
     "name": "stdout",
     "output_type": "stream",
     "text": [
      "{'FindRois': {'movie_file': 'E:\\\\Data\\\\Kearns\\\\TIRF from Caroline in Kearns Lab Caroline Dunn\\\\Strain Comparison\\\\Strains Bio Rep 1\\\\DK5082_1525gfst_250ms_1min_004.dv', 'rois_file_pattern': '_seg.npy', 'rois_fmt': 'cellpose'}}\n",
      "{'GodinezRohr': {'c': 1.0, 'eccentricity': 0.9, 'max_spot_size': 6.0, 'min_spot_size': 2.5, 'show_log': True, 'show_mask': False, 'sigma': 1.5}}\n",
      "{'RadialLocalizer': {'window_size': 6}}\n",
      "{'ConservativeTracker': {'max_diffusivity': 0.05}}\n"
     ]
    }
   ],
   "source": [
    "tp_file = r'T:\\MIGRATED\\Lab_Members\\Daniel_Foust\\Data\\Basal Bodies\\tracking parameters\\2023-06-29__rois_g-r_radsym_cons.yaml'\n",
    "tp = TifPipeline.from_yaml(tp_file)\n",
    "tp.name = Path(tp_file).stem"
   ]
  },
  {
   "cell_type": "code",
   "execution_count": 4,
   "id": "559f4654-7b7e-4661-a4b8-17f3236b5bad",
   "metadata": {},
   "outputs": [
    {
     "name": "stdout",
     "output_type": "stream",
     "text": [
      "Frame 240: 1096 trajectories present.\n"
     ]
    }
   ],
   "source": [
    "# specify folders containing movies to be process\n",
    "folders = (\n",
    "    # r\"T:\\MIGRATED\\Lab_Members\\Daniel_Foust\\Data\\Basal Bodies\\mutants\\Water Batch 2\\BR1\",\n",
    "    r\"T:\\MIGRATED\\Lab_Members\\Daniel_Foust\\Data\\Basal Bodies\\mutants\\Water Batch 2\\BR2\",\n",
    "    r\"T:\\MIGRATED\\Lab_Members\\Daniel_Foust\\Data\\Basal Bodies\\mutants\\Water Batch 2\\BR3\"\n",
    ")\n",
    "\n",
    "file_pattern = '*.dv' # dv = deltavision\n",
    "\n",
    "# define experimental parameters\n",
    "delta_t = 0.25 # seconds\n",
    "pixel_size = 40.27 / 512 # um\n",
    " \n",
    "# loop over folders processing each movie\n",
    "for folder in folders:\n",
    "    exp = Experiment(data_folder=folder,\n",
    "                 export_folder=folder,\n",
    "                 DT=delta_t,\n",
    "                 pixel_size=pixel_size,\n",
    "                 file_pattern=file_pattern)\n",
    "    \n",
    "    tp.process(exp, force_reprocess=True)"
   ]
  }
 ],
 "metadata": {
  "kernelspec": {
   "display_name": "napari-env",
   "language": "python",
   "name": "python3"
  },
  "language_info": {
   "codemirror_mode": {
    "name": "ipython",
    "version": 3
   },
   "file_extension": ".py",
   "mimetype": "text/x-python",
   "name": "python",
   "nbconvert_exporter": "python",
   "pygments_lexer": "ipython3",
   "version": "3.9.18"
  }
 },
 "nbformat": 4,
 "nbformat_minor": 5
}
