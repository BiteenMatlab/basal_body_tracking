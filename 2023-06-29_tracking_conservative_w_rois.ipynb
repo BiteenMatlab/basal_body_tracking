{
 "cells": [
  {
   "cell_type": "code",
   "execution_count": 1,
   "id": "bc7089f7-2671-4c48-aeab-c54f19428dbc",
   "metadata": {},
   "outputs": [
    {
     "name": "stderr",
     "output_type": "stream",
     "text": [
      "Invalid schema for package 'ome-types', please run 'npe2 validate ome-types' to check for manifest errors.\n"
     ]
    }
   ],
   "source": [
    "from palmari import Experiment\n",
    "from palmari.processing import TifPipeline\n",
    "\n",
    "from os.path import join\n",
    "import mrc\n",
    "\n",
    "from pathlib import Path\n",
    "\n",
    "import pandas as pd\n",
    "import numpy as np\n",
    "import napari as na\n",
    "\n",
    "import matplotlib.pyplot as plt"
   ]
  },
  {
   "cell_type": "code",
   "execution_count": 2,
   "id": "7a36ac49-c356-46d1-95bb-305d1b199fbb",
   "metadata": {},
   "outputs": [
    {
     "name": "stdout",
     "output_type": "stream",
     "text": [
      "{'FindRois': {'movie_file': 'E:\\\\Data\\\\Kearns\\\\TIRF from Caroline in Kearns Lab Caroline Dunn\\\\Strain Comparison\\\\Strains Bio Rep 1\\\\DK5082_1525gfst_250ms_1min_004.dv', 'rois_file_pattern': '_seg.npy', 'rois_fmt': 'cellpose'}}\n",
      "{'GodinezRohr': {'c': 1.0, 'eccentricity': 0.9, 'max_spot_size': 6.0, 'min_spot_size': 2.5, 'show_log': True, 'show_mask': False, 'sigma': 1.5}}\n",
      "{'RadialLocalizer': {'window_size': 6}}\n",
      "{'ConservativeTracker': {'max_diffusivity': 0.05}}\n"
     ]
    }
   ],
   "source": [
    "tp_file = r'T:\\MIGRATED\\Lab_Members\\Daniel_Foust\\Data\\Basal Bodies\\tracking parameters\\2023-06-29__rois_g-r_radsym_cons.yaml'\n",
    "tp = TifPipeline.from_yaml(tp_file)\n",
    "tp.name = Path(tp_file).stem"
   ]
  },
  {
   "cell_type": "code",
   "execution_count": 3,
   "id": "559f4654-7b7e-4661-a4b8-17f3236b5bad",
   "metadata": {},
   "outputs": [
    {
     "name": "stdout",
     "output_type": "stream",
     "text": [
      "Frame 240: 487 trajectories present.\n"
     ]
    }
   ],
   "source": [
    "# specify folders containing movies to be process\n",
    "folders = [\n",
    "    r'T:\\MIGRATED\\Lab_Members\\Daniel_Foust\\Data\\Basal Bodies\\mutants\\Small Batch Water\\BR1',\n",
    "    r'T:\\MIGRATED\\Lab_Members\\Daniel_Foust\\Data\\Basal Bodies\\mutants\\Small Batch Water\\BR2',\n",
    "    r'T:\\MIGRATED\\Lab_Members\\Daniel_Foust\\Data\\Basal Bodies\\mutants\\Small Batch Water\\BR3',\n",
    "]\n",
    "\n",
    "file_pattern = '*.dv' # dv = deltavision\n",
    "\n",
    "# define experimental parameters\n",
    "delta_t = 0.25 # seconds\n",
    "pixel_size = 40.27 / 512 # um\n",
    " \n",
    "# loop over folders processing each movie\n",
    "for folder in folders:\n",
    "    exp = Experiment(data_folder=folder,\n",
    "                 export_folder=folder,\n",
    "                 DT=delta_t,\n",
    "                 pixel_size=pixel_size,\n",
    "                 file_pattern=file_pattern)\n",
    "    \n",
    "    tp.process(exp, force_reprocess=True)"
   ]
  },
  {
   "cell_type": "code",
   "execution_count": 110,
   "id": "0baca2b1-66ce-493e-9e91-368fe7842c4f",
   "metadata": {},
   "outputs": [],
   "source": [
    "folder = r'E:\\Data\\Kearns\\TIRF from Caroline in Kearns Lab Caroline Dunn\\Strain Comparison\\Strains Bio Rep 3'\n",
    "subfolder = r'2023-06-21_g-r_radsym_cons'\n",
    "fname = r'DK1906_1525gfst_250ms1min_003'\n",
    "ext = '.dv'\n",
    "\n",
    "movie = mrc.imread(join(folder, fname+ext))\n",
    "tracks = pd.read_csv(join(folder, subfolder, fname+'.locs'), index_col=0)"
   ]
  },
  {
   "cell_type": "code",
   "execution_count": 111,
   "id": "4b99ee3d-567d-4a4f-aecf-f1011a1b61f7",
   "metadata": {},
   "outputs": [],
   "source": [
    "min_locs = 20\n",
    "tracks_grouped  = tracks.groupby('n')\n",
    "tracks_filt = tracks_grouped.filter(lambda x: (x['n'].count() >= min_locs))"
   ]
  },
  {
   "cell_type": "code",
   "execution_count": 51,
   "id": "d66540f4-24b6-44da-9f9e-c260fd484569",
   "metadata": {},
   "outputs": [],
   "source": [
    "viewer = na.Viewer()"
   ]
  },
  {
   "cell_type": "code",
   "execution_count": 112,
   "id": "5ec343d6-8f96-42fa-b9bb-ef99a43b3a95",
   "metadata": {},
   "outputs": [
    {
     "name": "stderr",
     "output_type": "stream",
     "text": [
      "C:\\Users\\djfoust\\Anaconda3\\envs\\napari-env\\lib\\site-packages\\napari\\layers\\tracks\\tracks.py:617: UserWarning: Previous color_by key 'n' not present in features. Falling back to track_id\n",
      "  warn(\n"
     ]
    },
    {
     "data": {
      "text/plain": [
       "<Tracks layer 'DK1906_1525gfst_250ms1min_003 tracks' at 0x21c935c96d0>"
      ]
     },
     "execution_count": 112,
     "metadata": {},
     "output_type": "execute_result"
    }
   ],
   "source": [
    "viewer.add_image(movie, scale=(1, pixel_size, pixel_size), name = fname + ' movie')\n",
    "\n",
    "viewer.add_tracks(\n",
    "                data=tracks_filt[['n','frame','x','y']],\n",
    "                tail_width=3,\n",
    "                tail_length=50,\n",
    "                head_length=0,\n",
    "                # features=tracks_wt[['n','frame','x','y']],\n",
    "                # features={'n': tracks_wt['n']},\n",
    "                properties={'n': tracks_filt['n'].values},\n",
    "                color_by='n',\n",
    "                name = fname + ' tracks',\n",
    "            )"
   ]
  },
  {
   "cell_type": "code",
   "execution_count": 41,
   "id": "fa0b3bf4-e810-4a21-b812-ab63b330b839",
   "metadata": {},
   "outputs": [
    {
     "data": {
      "text/plain": [
       "6.6755811781245455"
      ]
     },
     "execution_count": 41,
     "metadata": {},
     "output_type": "execute_result"
    }
   ],
   "source": [
    "(4 * 35 / np.pi)**0.5"
   ]
  },
  {
   "cell_type": "code",
   "execution_count": 38,
   "id": "b98d8cd2-9e1e-4fbc-bfab-5d101beb92e6",
   "metadata": {},
   "outputs": [
    {
     "data": {
      "text/plain": [
       "28.274333882308138"
      ]
     },
     "execution_count": 38,
     "metadata": {},
     "output_type": "execute_result"
    }
   ],
   "source": [
    "np.pi * 6**2 / 4"
   ]
  },
  {
   "cell_type": "code",
   "execution_count": 54,
   "id": "d8127d55-49df-40d1-9811-83dc4837213b",
   "metadata": {},
   "outputs": [],
   "source": [
    "def calc_msd_hist(filename, min_locs,\n",
    "                 pixel_scale, tau, max_lag,\n",
    "                 bins):\n",
    "    \"\"\"\n",
    "    Generate histogram of D_app as determined by fitting mean squared displacements\n",
    "    \"\"\"\n",
    "    data = pd.read_csv(filename, index_col=0)\n",
    "    track_ids = np.unique(data['n'])\n",
    "    \n",
    "    D_app = []\n",
    "    track_ids_D = []\n",
    "    id2nlocs = {}\n",
    "    \n",
    "    for tid in track_ids:\n",
    "\n",
    "        track_filt = data['n'] == tid\n",
    "        n_locs = track_filt.sum()\n",
    "\n",
    "        if n_locs >= min_locs:\n",
    "            frames = data['frame'][track_filt].values\n",
    "            rows = data['y'][track_filt].values\n",
    "            cols = data['x'][track_filt].values\n",
    "            id2nlocs[tid] = n_locs\n",
    "\n",
    "            for i in range(0, n_locs-min_locs+1):\n",
    "                frames_seg = frames[i:i+min_locs]\n",
    "                rows_seg = rows[i:i+min_locs]\n",
    "                cols_seg = cols[i:i+min_locs]\n",
    "\n",
    "                D_app.append(calc_msd(frames_seg, rows_seg, cols_seg, pixel_scale, tau, max_lag))\n",
    "                track_ids_D.append(tid)\n",
    "\n",
    "    D_app = np.array(D_app)\n",
    "    track_ids_D = np.array(track_ids_D)\n",
    "    \n",
    "    D_app_bs = []\n",
    "\n",
    "    for ti in np.unique(track_ids_D):\n",
    "        n_segs = id2nlocs[ti] // min_locs\n",
    "        D_app_ti = D_app[track_ids_D == ti]\n",
    "        D_app_ti_samp = np.random.choice(D_app_ti, size=n_segs)\n",
    "        D_app_bs.append(D_app_ti_samp)\n",
    "\n",
    "    D_app_bs = np.concatenate(D_app_bs)\n",
    "    \n",
    "    p, plims = np.histogram(D_app_bs, bins=bins)\n",
    "    \n",
    "    return p, plims\n",
    "\n",
    "def calc_msd(frames, rows, cols, pixel_size, tau, max_lag):\n",
    "    \"\"\"\n",
    "    Calculate D_app by fitting line to mean squared displacements \n",
    "    \"\"\"\n",
    "    n_locs = len(frames)\n",
    "    \n",
    "    msd_num = np.zeros(max_lag+1)\n",
    "    msd_den = np.zeros(max_lag+1)\n",
    "    \n",
    "    for offset in range(1,n_locs):\n",
    "        dFrame = frames[offset:] - frames[:-offset]\n",
    "        sd = ((rows[offset:] - rows[:-offset])**2 + (cols[offset:] - cols[:-offset])**2) * pixel_size**2 # squared displacement, um^2\n",
    "        msd_num += np.histogram(dFrame,\n",
    "                                bins=np.arange(1, max_lag+3),\n",
    "                                weights=sd)[0] # numerator of mean squared displacement\n",
    "        msd_den += np.histogram(dFrame,\n",
    "                                bins=np.arange(1, max_lag+3))[0] # denominator of mean squared displacement\n",
    "        \n",
    "    msd_num = msd_num[:-1]\n",
    "    msd_den = msd_den[:-1]\n",
    "        \n",
    "    non_empty_lags = msd_den > 0\n",
    "    msd = (msd_num[non_empty_lags] / msd_den[non_empty_lags]) # * (pixel_size)**2 # um^2\n",
    "\n",
    "    lags_frame = np.arange(1, max_lag+1)[non_empty_lags] # frames\n",
    "    lags_time = lags_frame * tau # seconds\n",
    "    \n",
    "    msd_den = msd_den[non_empty_lags]\n",
    "    sum_w = msd_den.sum()\n",
    "    sum_wxy = (msd_den * lags_time * msd).sum()\n",
    "    sum_wx = (msd_den * lags_time).sum()\n",
    "    sum_wy = (msd_den * msd).sum()\n",
    "    sum_wx2 = (msd_den * lags_time**2).sum()\n",
    "    \n",
    "    D_app = 0.25 * (sum_w*sum_wxy - sum_wx*sum_wy) / (sum_w*sum_wx2 - sum_wx**2)\n",
    "                                                \n",
    "    return D_app"
   ]
  },
  {
   "cell_type": "code",
   "execution_count": 140,
   "id": "827daa56-7345-4336-8f73-73923b41f38e",
   "metadata": {},
   "outputs": [],
   "source": [
    "folder = r'E:\\Data\\Kearns\\TIRF from Caroline in Kearns Lab Caroline Dunn\\Strain Comparison\\Strains Bio Rep 1\\2023-06-21_g-r_radsym_cons'\n",
    "fname1 = r'DK1906_1525gfst_250ms_1min_001.locs'\n",
    "fname2 = r'DK1906_1525gfst_250ms_1min_002.locs'\n",
    "fname3 = r'DK1906_1525gfst_250ms_1min_003.locs'\n",
    "fname4 = r'DK1906_1525gfst_250ms_1min_004.locs'\n",
    "fname5 = r'DK1906_1525gfst_250ms_1min_005.locs'\n",
    "fname6 = r'DK1906_1525gfst_250ms_1min_006.locs'\n",
    "\n",
    "fnames = [fname1, fname2, fname3, fname4, fname5, fname6]\n",
    "\n",
    "min_locs = 20\n",
    "pixel_scale = 1\n",
    "tau = 0.25\n",
    "max_lag = 19\n",
    "bins = np.arange(-0.004, 0.025, 0.0001)\n",
    "\n",
    "\n",
    "# p1, plims = calc_msd_hist(join(folder, fname1), min_locs,\n",
    "#                  pixel_scale, tau, max_lag,\n",
    "#                  bins)\n",
    "\n",
    "# p2, plims = calc_msd_hist(join(folder, fname2), min_locs,\n",
    "#                  pixel_scale, tau, max_lag,\n",
    "#                  bins)\n",
    "p = {}\n",
    "\n",
    "for i, fn in enumerate(fnames):\n",
    "    p[i+1] = calc_msd_hist(join(folder, fn), min_locs,\n",
    "                 pixel_scale, tau, max_lag,\n",
    "                 bins)"
   ]
  },
  {
   "cell_type": "code",
   "execution_count": 141,
   "id": "334a116f-df02-4673-ab39-efc346261c69",
   "metadata": {},
   "outputs": [
    {
     "data": {
      "image/png": "[encoded data removed]",
      "text/plain": [
       "<Figure size 640x480 with 1 Axes>"
      ]
     },
     "metadata": {},
     "output_type": "display_data"
    }
   ],
   "source": [
    "x = (p[1][1][:-1]+p[1][1][1:])/2\n",
    "\n",
    "fig, ax = plt.subplots(1,1)\n",
    "ax.plot(x, p[1][0]/p[1][0].sum(), label='DK1906-001', color='xkcd:light blue')\n",
    "ax.plot(x, p[2][0]/p[2][0].sum(), label='DK1906-002', color='xkcd:blue')\n",
    "ax.plot(x, p[3][0]/p[3][0].sum(), label='DK1906-003', color='xkcd:dark blue')\n",
    "ax.plot(x, p[4][0]/p[4][0].sum(), label='DK5082-001', color='xkcd:light red')\n",
    "ax.plot(x, p[5][0]/p[5][0].sum(), label='DK5082-002', color='xkcd:red')\n",
    "ax.plot(x, p[6][0]/p[6][0].sum(), label='DK5082-003', color='xkcd:dark red')\n",
    "ax.set_xlim([-0.001, 0.006])\n",
    "plt.legend(fontsize=14)\n",
    "ax.set_yscale('log')\n",
    "\n",
    "plt.xlabel(r'$D_{app}\\ (\\mu m^2/s)$', fontsize=18)\n",
    "plt.ylabel('Probability', fontsize=18)\n",
    "\n",
    "plt.xticks(fontsize=14, rotation='vertical')\n",
    "plt.yticks(fontsize=14);"
   ]
  },
  {
   "cell_type": "code",
   "execution_count": 142,
   "id": "8d61d3eb-22f7-4356-b195-f6e524d0e823",
   "metadata": {},
   "outputs": [
    {
     "name": "stdout",
     "output_type": "stream",
     "text": [
      "0.022950819672131147 0.017341040462427744 0.021052631578947368\n"
     ]
    }
   ],
   "source": [
    "bnd = 0.0002\n",
    "\n",
    "print(\n",
    "    p[1][0][x>=bnd].sum() / p[1][0].sum(),\n",
    "    p[2][0][x>=bnd].sum() / p[2][0].sum(),\n",
    "    p[3][0][x>=bnd].sum() / p[3][0].sum(),\n",
    ")"
   ]
  },
  {
   "cell_type": "code",
   "execution_count": 143,
   "id": "3f4b2b0f-140c-4816-aeb0-4ed70dbf4359",
   "metadata": {},
   "outputs": [
    {
     "name": "stdout",
     "output_type": "stream",
     "text": [
      "0.05555555555555555 0.033807829181494664 0.021551724137931036\n"
     ]
    }
   ],
   "source": [
    "print(\n",
    "    p[4][0][x>=bnd].sum() / p[4][0].sum(),\n",
    "    p[5][0][x>=bnd].sum() / p[5][0].sum(),\n",
    "    p[6][0][x>=bnd].sum() / p[6][0].sum(),\n",
    ")"
   ]
  }
 ],
 "metadata": {
  "kernelspec": {
   "display_name": "napari-env",
   "language": "python",
   "name": "python3"
  },
  "language_info": {
   "codemirror_mode": {
    "name": "ipython",
    "version": 3
   },
   "file_extension": ".py",
   "mimetype": "text/x-python",
   "name": "python",
   "nbconvert_exporter": "python",
   "pygments_lexer": "ipython3",
   "version": "3.9.18"
  }
 },
 "nbformat": 4,
 "nbformat_minor": 5
}
